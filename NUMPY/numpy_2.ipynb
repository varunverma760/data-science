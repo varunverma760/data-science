{
 "cells": [
  {
   "cell_type": "code",
   "execution_count": 4,
   "id": "5c2ce8cc",
   "metadata": {},
   "outputs": [],
   "source": [
    "import numpy as np"
   ]
  },
  {
   "cell_type": "code",
   "execution_count": 5,
   "id": "1c167003",
   "metadata": {},
   "outputs": [],
   "source": [
    "# numpy random module\n",
    "#rand:  random values in a given shape \n",
    "#randint: return random ingers from low (inclusive) to high (Exclusive)\n",
    "#random: return random floats in the half-open interval[0.0,1.0]\n",
    "#choice: generates a random sample from a given 1-D array \n",
    "#shuffle : shuffles the content of a squence"
   ]
  },
  {
   "cell_type": "code",
   "execution_count": 7,
   "id": "35990eb3",
   "metadata": {},
   "outputs": [
    {
     "name": "stdout",
     "output_type": "stream",
     "text": [
      "[0 1 2 3 4 5 6 7 8 9]\n"
     ]
    }
   ],
   "source": [
    "a = np.arange(10) \n",
    "print(a)"
   ]
  },
  {
   "cell_type": "code",
   "execution_count": 14,
   "id": "48f8e8db",
   "metadata": {},
   "outputs": [
    {
     "name": "stdout",
     "output_type": "stream",
     "text": [
      "[8 6]\n"
     ]
    }
   ],
   "source": [
    "np.random.seed(1)\n",
    "np.random.shuffle(a)\n",
    "print(a)"
   ]
  },
  {
   "cell_type": "code",
   "execution_count": 13,
   "id": "ebce3f81",
   "metadata": {},
   "outputs": [
    {
     "name": "stdout",
     "output_type": "stream",
     "text": [
      "[[0.59433721 0.58853185 0.02487911]\n",
      " [0.93395405 0.49209719 0.38132001]]\n",
      "[8 6]\n",
      "3\n"
     ]
    }
   ],
   "source": [
    "#returns values from a standard normal distribution\n",
    "a= np.random.rand(2,3)\n",
    "print(a)\n",
    "\n",
    "a=np.random.randint(5,10,2)\n",
    "print(a)\n",
    "\n",
    "#randomly pick one element from an array\n",
    "element = np.random.choice([1,4,3,2,11,27])\n",
    "print(element)"
   ]
  },
  {
   "cell_type": "code",
   "execution_count": null,
   "id": "77fbfea7",
   "metadata": {},
   "outputs": [],
   "source": []
  }
 ],
 "metadata": {
  "kernelspec": {
   "display_name": "Python 3 (ipykernel)",
   "language": "python",
   "name": "python3"
  },
  "language_info": {
   "codemirror_mode": {
    "name": "ipython",
    "version": 3
   },
   "file_extension": ".py",
   "mimetype": "text/x-python",
   "name": "python",
   "nbconvert_exporter": "python",
   "pygments_lexer": "ipython3",
   "version": "3.9.7"
  }
 },
 "nbformat": 4,
 "nbformat_minor": 5
}
